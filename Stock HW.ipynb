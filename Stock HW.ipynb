{
 "cells": [
  {
   "cell_type": "markdown",
   "metadata": {},
   "source": [
    "Juna Iafelice Homework 10 "
   ]
  },
  {
   "cell_type": "code",
   "execution_count": 3,
   "metadata": {},
   "outputs": [],
   "source": [
    "import pandas as pd\n",
    "import numpy as np\n",
    "import matplotlib.pyplot as plt\n",
    "%matplotlib inline\n"
   ]
  },
  {
   "cell_type": "code",
   "execution_count": 4,
   "metadata": {},
   "outputs": [],
   "source": [
    "df_sp500 = pd.read_csv('GSPC.csv')"
   ]
  },
  {
   "cell_type": "code",
   "execution_count": 5,
   "metadata": {},
   "outputs": [],
   "source": [
    "df_SDS = pd.read_csv('SDS.csv')"
   ]
  },
  {
   "cell_type": "code",
   "execution_count": 6,
   "metadata": {},
   "outputs": [
    {
     "data": {
      "text/html": [
       "<div>\n",
       "<style scoped>\n",
       "    .dataframe tbody tr th:only-of-type {\n",
       "        vertical-align: middle;\n",
       "    }\n",
       "\n",
       "    .dataframe tbody tr th {\n",
       "        vertical-align: top;\n",
       "    }\n",
       "\n",
       "    .dataframe thead th {\n",
       "        text-align: right;\n",
       "    }\n",
       "</style>\n",
       "<table border=\"1\" class=\"dataframe\">\n",
       "  <thead>\n",
       "    <tr style=\"text-align: right;\">\n",
       "      <th></th>\n",
       "      <th>Date</th>\n",
       "      <th>Open</th>\n",
       "      <th>High</th>\n",
       "      <th>Low</th>\n",
       "      <th>Close</th>\n",
       "      <th>Adj Close</th>\n",
       "      <th>Volume</th>\n",
       "    </tr>\n",
       "  </thead>\n",
       "  <tbody>\n",
       "    <tr>\n",
       "      <td>0</td>\n",
       "      <td>1/2/2019</td>\n",
       "      <td>2476.959961</td>\n",
       "      <td>2519.489990</td>\n",
       "      <td>2467.469971</td>\n",
       "      <td>2510.030029</td>\n",
       "      <td>2510.030029</td>\n",
       "      <td>3733160000</td>\n",
       "    </tr>\n",
       "    <tr>\n",
       "      <td>1</td>\n",
       "      <td>1/3/2019</td>\n",
       "      <td>2491.919922</td>\n",
       "      <td>2493.139893</td>\n",
       "      <td>2443.959961</td>\n",
       "      <td>2447.889893</td>\n",
       "      <td>2447.889893</td>\n",
       "      <td>3822860000</td>\n",
       "    </tr>\n",
       "    <tr>\n",
       "      <td>2</td>\n",
       "      <td>1/4/2019</td>\n",
       "      <td>2474.330078</td>\n",
       "      <td>2538.070068</td>\n",
       "      <td>2474.330078</td>\n",
       "      <td>2531.939941</td>\n",
       "      <td>2531.939941</td>\n",
       "      <td>4213410000</td>\n",
       "    </tr>\n",
       "    <tr>\n",
       "      <td>3</td>\n",
       "      <td>1/7/2019</td>\n",
       "      <td>2535.610107</td>\n",
       "      <td>2566.159912</td>\n",
       "      <td>2524.560059</td>\n",
       "      <td>2549.689941</td>\n",
       "      <td>2549.689941</td>\n",
       "      <td>4104710000</td>\n",
       "    </tr>\n",
       "    <tr>\n",
       "      <td>4</td>\n",
       "      <td>1/8/2019</td>\n",
       "      <td>2568.110107</td>\n",
       "      <td>2579.820068</td>\n",
       "      <td>2547.560059</td>\n",
       "      <td>2574.409912</td>\n",
       "      <td>2574.409912</td>\n",
       "      <td>4083030000</td>\n",
       "    </tr>\n",
       "    <tr>\n",
       "      <td>...</td>\n",
       "      <td>...</td>\n",
       "      <td>...</td>\n",
       "      <td>...</td>\n",
       "      <td>...</td>\n",
       "      <td>...</td>\n",
       "      <td>...</td>\n",
       "      <td>...</td>\n",
       "    </tr>\n",
       "    <tr>\n",
       "      <td>246</td>\n",
       "      <td>12/23/2019</td>\n",
       "      <td>3226.050049</td>\n",
       "      <td>3227.780029</td>\n",
       "      <td>3222.300049</td>\n",
       "      <td>3224.010010</td>\n",
       "      <td>3224.010010</td>\n",
       "      <td>3060610000</td>\n",
       "    </tr>\n",
       "    <tr>\n",
       "      <td>247</td>\n",
       "      <td>12/24/2019</td>\n",
       "      <td>3225.449951</td>\n",
       "      <td>3226.429932</td>\n",
       "      <td>3220.510010</td>\n",
       "      <td>3223.379883</td>\n",
       "      <td>3223.379883</td>\n",
       "      <td>1296540000</td>\n",
       "    </tr>\n",
       "    <tr>\n",
       "      <td>248</td>\n",
       "      <td>12/26/2019</td>\n",
       "      <td>3227.199951</td>\n",
       "      <td>3240.080078</td>\n",
       "      <td>3227.199951</td>\n",
       "      <td>3239.909912</td>\n",
       "      <td>3239.909912</td>\n",
       "      <td>2160680000</td>\n",
       "    </tr>\n",
       "    <tr>\n",
       "      <td>249</td>\n",
       "      <td>12/27/2019</td>\n",
       "      <td>3247.229980</td>\n",
       "      <td>3247.929932</td>\n",
       "      <td>3234.370117</td>\n",
       "      <td>3240.020020</td>\n",
       "      <td>3240.020020</td>\n",
       "      <td>2428670000</td>\n",
       "    </tr>\n",
       "    <tr>\n",
       "      <td>250</td>\n",
       "      <td>12/30/2019</td>\n",
       "      <td>3240.090088</td>\n",
       "      <td>3240.919922</td>\n",
       "      <td>3216.570068</td>\n",
       "      <td>3221.290039</td>\n",
       "      <td>3221.290039</td>\n",
       "      <td>3013290000</td>\n",
       "    </tr>\n",
       "  </tbody>\n",
       "</table>\n",
       "<p>251 rows × 7 columns</p>\n",
       "</div>"
      ],
      "text/plain": [
       "           Date         Open         High          Low        Close  \\\n",
       "0      1/2/2019  2476.959961  2519.489990  2467.469971  2510.030029   \n",
       "1      1/3/2019  2491.919922  2493.139893  2443.959961  2447.889893   \n",
       "2      1/4/2019  2474.330078  2538.070068  2474.330078  2531.939941   \n",
       "3      1/7/2019  2535.610107  2566.159912  2524.560059  2549.689941   \n",
       "4      1/8/2019  2568.110107  2579.820068  2547.560059  2574.409912   \n",
       "..          ...          ...          ...          ...          ...   \n",
       "246  12/23/2019  3226.050049  3227.780029  3222.300049  3224.010010   \n",
       "247  12/24/2019  3225.449951  3226.429932  3220.510010  3223.379883   \n",
       "248  12/26/2019  3227.199951  3240.080078  3227.199951  3239.909912   \n",
       "249  12/27/2019  3247.229980  3247.929932  3234.370117  3240.020020   \n",
       "250  12/30/2019  3240.090088  3240.919922  3216.570068  3221.290039   \n",
       "\n",
       "       Adj Close      Volume  \n",
       "0    2510.030029  3733160000  \n",
       "1    2447.889893  3822860000  \n",
       "2    2531.939941  4213410000  \n",
       "3    2549.689941  4104710000  \n",
       "4    2574.409912  4083030000  \n",
       "..           ...         ...  \n",
       "246  3224.010010  3060610000  \n",
       "247  3223.379883  1296540000  \n",
       "248  3239.909912  2160680000  \n",
       "249  3240.020020  2428670000  \n",
       "250  3221.290039  3013290000  \n",
       "\n",
       "[251 rows x 7 columns]"
      ]
     },
     "execution_count": 6,
     "metadata": {},
     "output_type": "execute_result"
    }
   ],
   "source": [
    "df_sp500"
   ]
  },
  {
   "cell_type": "code",
   "execution_count": 8,
   "metadata": {},
   "outputs": [
    {
     "data": {
      "text/html": [
       "<div>\n",
       "<style scoped>\n",
       "    .dataframe tbody tr th:only-of-type {\n",
       "        vertical-align: middle;\n",
       "    }\n",
       "\n",
       "    .dataframe tbody tr th {\n",
       "        vertical-align: top;\n",
       "    }\n",
       "\n",
       "    .dataframe thead th {\n",
       "        text-align: right;\n",
       "    }\n",
       "</style>\n",
       "<table border=\"1\" class=\"dataframe\">\n",
       "  <thead>\n",
       "    <tr style=\"text-align: right;\">\n",
       "      <th></th>\n",
       "      <th>Date</th>\n",
       "      <th>Open</th>\n",
       "      <th>High</th>\n",
       "      <th>Low</th>\n",
       "      <th>Close</th>\n",
       "      <th>Adj Close</th>\n",
       "      <th>Volume</th>\n",
       "    </tr>\n",
       "  </thead>\n",
       "  <tbody>\n",
       "    <tr>\n",
       "      <td>0</td>\n",
       "      <td>2019-01-02</td>\n",
       "      <td>44.330002</td>\n",
       "      <td>44.349998</td>\n",
       "      <td>42.540001</td>\n",
       "      <td>42.880001</td>\n",
       "      <td>42.151756</td>\n",
       "      <td>7162500</td>\n",
       "    </tr>\n",
       "    <tr>\n",
       "      <td>1</td>\n",
       "      <td>2019-01-03</td>\n",
       "      <td>43.549999</td>\n",
       "      <td>45.150002</td>\n",
       "      <td>43.480000</td>\n",
       "      <td>44.990002</td>\n",
       "      <td>44.225925</td>\n",
       "      <td>10146600</td>\n",
       "    </tr>\n",
       "    <tr>\n",
       "      <td>2</td>\n",
       "      <td>2019-01-04</td>\n",
       "      <td>43.730000</td>\n",
       "      <td>43.880001</td>\n",
       "      <td>41.700001</td>\n",
       "      <td>41.939999</td>\n",
       "      <td>41.227718</td>\n",
       "      <td>8950700</td>\n",
       "    </tr>\n",
       "    <tr>\n",
       "      <td>3</td>\n",
       "      <td>2019-01-07</td>\n",
       "      <td>41.840000</td>\n",
       "      <td>42.180000</td>\n",
       "      <td>40.779999</td>\n",
       "      <td>41.330002</td>\n",
       "      <td>40.628078</td>\n",
       "      <td>5029400</td>\n",
       "    </tr>\n",
       "    <tr>\n",
       "      <td>4</td>\n",
       "      <td>2019-01-08</td>\n",
       "      <td>40.500000</td>\n",
       "      <td>41.419998</td>\n",
       "      <td>40.349998</td>\n",
       "      <td>40.549999</td>\n",
       "      <td>39.861328</td>\n",
       "      <td>5112500</td>\n",
       "    </tr>\n",
       "    <tr>\n",
       "      <td>...</td>\n",
       "      <td>...</td>\n",
       "      <td>...</td>\n",
       "      <td>...</td>\n",
       "      <td>...</td>\n",
       "      <td>...</td>\n",
       "      <td>...</td>\n",
       "      <td>...</td>\n",
       "    </tr>\n",
       "    <tr>\n",
       "      <td>246</td>\n",
       "      <td>2019-12-23</td>\n",
       "      <td>24.980000</td>\n",
       "      <td>25.070000</td>\n",
       "      <td>24.969999</td>\n",
       "      <td>25.030001</td>\n",
       "      <td>24.895275</td>\n",
       "      <td>2589900</td>\n",
       "    </tr>\n",
       "    <tr>\n",
       "      <td>247</td>\n",
       "      <td>2019-12-24</td>\n",
       "      <td>24.920000</td>\n",
       "      <td>25.010000</td>\n",
       "      <td>24.910000</td>\n",
       "      <td>24.950001</td>\n",
       "      <td>24.909252</td>\n",
       "      <td>1271900</td>\n",
       "    </tr>\n",
       "    <tr>\n",
       "      <td>248</td>\n",
       "      <td>2019-12-26</td>\n",
       "      <td>24.889999</td>\n",
       "      <td>24.889999</td>\n",
       "      <td>24.690001</td>\n",
       "      <td>24.700001</td>\n",
       "      <td>24.659660</td>\n",
       "      <td>2553200</td>\n",
       "    </tr>\n",
       "    <tr>\n",
       "      <td>249</td>\n",
       "      <td>2019-12-27</td>\n",
       "      <td>24.570000</td>\n",
       "      <td>24.799999</td>\n",
       "      <td>24.570000</td>\n",
       "      <td>24.700001</td>\n",
       "      <td>24.659660</td>\n",
       "      <td>3718700</td>\n",
       "    </tr>\n",
       "    <tr>\n",
       "      <td>250</td>\n",
       "      <td>2019-12-30</td>\n",
       "      <td>24.700001</td>\n",
       "      <td>25.070000</td>\n",
       "      <td>24.680000</td>\n",
       "      <td>24.980000</td>\n",
       "      <td>24.939201</td>\n",
       "      <td>5761300</td>\n",
       "    </tr>\n",
       "  </tbody>\n",
       "</table>\n",
       "<p>251 rows × 7 columns</p>\n",
       "</div>"
      ],
      "text/plain": [
       "           Date       Open       High        Low      Close  Adj Close  \\\n",
       "0    2019-01-02  44.330002  44.349998  42.540001  42.880001  42.151756   \n",
       "1    2019-01-03  43.549999  45.150002  43.480000  44.990002  44.225925   \n",
       "2    2019-01-04  43.730000  43.880001  41.700001  41.939999  41.227718   \n",
       "3    2019-01-07  41.840000  42.180000  40.779999  41.330002  40.628078   \n",
       "4    2019-01-08  40.500000  41.419998  40.349998  40.549999  39.861328   \n",
       "..          ...        ...        ...        ...        ...        ...   \n",
       "246  2019-12-23  24.980000  25.070000  24.969999  25.030001  24.895275   \n",
       "247  2019-12-24  24.920000  25.010000  24.910000  24.950001  24.909252   \n",
       "248  2019-12-26  24.889999  24.889999  24.690001  24.700001  24.659660   \n",
       "249  2019-12-27  24.570000  24.799999  24.570000  24.700001  24.659660   \n",
       "250  2019-12-30  24.700001  25.070000  24.680000  24.980000  24.939201   \n",
       "\n",
       "       Volume  \n",
       "0     7162500  \n",
       "1    10146600  \n",
       "2     8950700  \n",
       "3     5029400  \n",
       "4     5112500  \n",
       "..        ...  \n",
       "246   2589900  \n",
       "247   1271900  \n",
       "248   2553200  \n",
       "249   3718700  \n",
       "250   5761300  \n",
       "\n",
       "[251 rows x 7 columns]"
      ]
     },
     "execution_count": 8,
     "metadata": {},
     "output_type": "execute_result"
    }
   ],
   "source": [
    "df_SDS"
   ]
  },
  {
   "cell_type": "code",
   "execution_count": 15,
   "metadata": {},
   "outputs": [],
   "source": [
    "df_sp500['pct_change_sp500']=df_sp500['Adj Close'].pct_change()"
   ]
  },
  {
   "cell_type": "code",
   "execution_count": 17,
   "metadata": {},
   "outputs": [],
   "source": [
    "df_SDS['pct_change_sds']=df_SDS['Adj Close'].pct_change()"
   ]
  },
  {
   "cell_type": "code",
   "execution_count": 18,
   "metadata": {},
   "outputs": [
    {
     "data": {
      "text/html": [
       "<div>\n",
       "<style scoped>\n",
       "    .dataframe tbody tr th:only-of-type {\n",
       "        vertical-align: middle;\n",
       "    }\n",
       "\n",
       "    .dataframe tbody tr th {\n",
       "        vertical-align: top;\n",
       "    }\n",
       "\n",
       "    .dataframe thead th {\n",
       "        text-align: right;\n",
       "    }\n",
       "</style>\n",
       "<table border=\"1\" class=\"dataframe\">\n",
       "  <thead>\n",
       "    <tr style=\"text-align: right;\">\n",
       "      <th></th>\n",
       "      <th>Date</th>\n",
       "      <th>Open</th>\n",
       "      <th>High</th>\n",
       "      <th>Low</th>\n",
       "      <th>Close</th>\n",
       "      <th>Adj Close</th>\n",
       "      <th>Volume</th>\n",
       "      <th>pct_change_sp500</th>\n",
       "    </tr>\n",
       "  </thead>\n",
       "  <tbody>\n",
       "    <tr>\n",
       "      <td>0</td>\n",
       "      <td>1/2/2019</td>\n",
       "      <td>2476.959961</td>\n",
       "      <td>2519.489990</td>\n",
       "      <td>2467.469971</td>\n",
       "      <td>2510.030029</td>\n",
       "      <td>2510.030029</td>\n",
       "      <td>3733160000</td>\n",
       "      <td>NaN</td>\n",
       "    </tr>\n",
       "    <tr>\n",
       "      <td>1</td>\n",
       "      <td>1/3/2019</td>\n",
       "      <td>2491.919922</td>\n",
       "      <td>2493.139893</td>\n",
       "      <td>2443.959961</td>\n",
       "      <td>2447.889893</td>\n",
       "      <td>2447.889893</td>\n",
       "      <td>3822860000</td>\n",
       "      <td>-0.024757</td>\n",
       "    </tr>\n",
       "    <tr>\n",
       "      <td>2</td>\n",
       "      <td>1/4/2019</td>\n",
       "      <td>2474.330078</td>\n",
       "      <td>2538.070068</td>\n",
       "      <td>2474.330078</td>\n",
       "      <td>2531.939941</td>\n",
       "      <td>2531.939941</td>\n",
       "      <td>4213410000</td>\n",
       "      <td>0.034336</td>\n",
       "    </tr>\n",
       "    <tr>\n",
       "      <td>3</td>\n",
       "      <td>1/7/2019</td>\n",
       "      <td>2535.610107</td>\n",
       "      <td>2566.159912</td>\n",
       "      <td>2524.560059</td>\n",
       "      <td>2549.689941</td>\n",
       "      <td>2549.689941</td>\n",
       "      <td>4104710000</td>\n",
       "      <td>0.007010</td>\n",
       "    </tr>\n",
       "    <tr>\n",
       "      <td>4</td>\n",
       "      <td>1/8/2019</td>\n",
       "      <td>2568.110107</td>\n",
       "      <td>2579.820068</td>\n",
       "      <td>2547.560059</td>\n",
       "      <td>2574.409912</td>\n",
       "      <td>2574.409912</td>\n",
       "      <td>4083030000</td>\n",
       "      <td>0.009695</td>\n",
       "    </tr>\n",
       "    <tr>\n",
       "      <td>...</td>\n",
       "      <td>...</td>\n",
       "      <td>...</td>\n",
       "      <td>...</td>\n",
       "      <td>...</td>\n",
       "      <td>...</td>\n",
       "      <td>...</td>\n",
       "      <td>...</td>\n",
       "      <td>...</td>\n",
       "    </tr>\n",
       "    <tr>\n",
       "      <td>246</td>\n",
       "      <td>12/23/2019</td>\n",
       "      <td>3226.050049</td>\n",
       "      <td>3227.780029</td>\n",
       "      <td>3222.300049</td>\n",
       "      <td>3224.010010</td>\n",
       "      <td>3224.010010</td>\n",
       "      <td>3060610000</td>\n",
       "      <td>0.000866</td>\n",
       "    </tr>\n",
       "    <tr>\n",
       "      <td>247</td>\n",
       "      <td>12/24/2019</td>\n",
       "      <td>3225.449951</td>\n",
       "      <td>3226.429932</td>\n",
       "      <td>3220.510010</td>\n",
       "      <td>3223.379883</td>\n",
       "      <td>3223.379883</td>\n",
       "      <td>1296540000</td>\n",
       "      <td>-0.000195</td>\n",
       "    </tr>\n",
       "    <tr>\n",
       "      <td>248</td>\n",
       "      <td>12/26/2019</td>\n",
       "      <td>3227.199951</td>\n",
       "      <td>3240.080078</td>\n",
       "      <td>3227.199951</td>\n",
       "      <td>3239.909912</td>\n",
       "      <td>3239.909912</td>\n",
       "      <td>2160680000</td>\n",
       "      <td>0.005128</td>\n",
       "    </tr>\n",
       "    <tr>\n",
       "      <td>249</td>\n",
       "      <td>12/27/2019</td>\n",
       "      <td>3247.229980</td>\n",
       "      <td>3247.929932</td>\n",
       "      <td>3234.370117</td>\n",
       "      <td>3240.020020</td>\n",
       "      <td>3240.020020</td>\n",
       "      <td>2428670000</td>\n",
       "      <td>0.000034</td>\n",
       "    </tr>\n",
       "    <tr>\n",
       "      <td>250</td>\n",
       "      <td>12/30/2019</td>\n",
       "      <td>3240.090088</td>\n",
       "      <td>3240.919922</td>\n",
       "      <td>3216.570068</td>\n",
       "      <td>3221.290039</td>\n",
       "      <td>3221.290039</td>\n",
       "      <td>3013290000</td>\n",
       "      <td>-0.005781</td>\n",
       "    </tr>\n",
       "  </tbody>\n",
       "</table>\n",
       "<p>251 rows × 8 columns</p>\n",
       "</div>"
      ],
      "text/plain": [
       "           Date         Open         High          Low        Close  \\\n",
       "0      1/2/2019  2476.959961  2519.489990  2467.469971  2510.030029   \n",
       "1      1/3/2019  2491.919922  2493.139893  2443.959961  2447.889893   \n",
       "2      1/4/2019  2474.330078  2538.070068  2474.330078  2531.939941   \n",
       "3      1/7/2019  2535.610107  2566.159912  2524.560059  2549.689941   \n",
       "4      1/8/2019  2568.110107  2579.820068  2547.560059  2574.409912   \n",
       "..          ...          ...          ...          ...          ...   \n",
       "246  12/23/2019  3226.050049  3227.780029  3222.300049  3224.010010   \n",
       "247  12/24/2019  3225.449951  3226.429932  3220.510010  3223.379883   \n",
       "248  12/26/2019  3227.199951  3240.080078  3227.199951  3239.909912   \n",
       "249  12/27/2019  3247.229980  3247.929932  3234.370117  3240.020020   \n",
       "250  12/30/2019  3240.090088  3240.919922  3216.570068  3221.290039   \n",
       "\n",
       "       Adj Close      Volume  pct_change_sp500  \n",
       "0    2510.030029  3733160000               NaN  \n",
       "1    2447.889893  3822860000         -0.024757  \n",
       "2    2531.939941  4213410000          0.034336  \n",
       "3    2549.689941  4104710000          0.007010  \n",
       "4    2574.409912  4083030000          0.009695  \n",
       "..           ...         ...               ...  \n",
       "246  3224.010010  3060610000          0.000866  \n",
       "247  3223.379883  1296540000         -0.000195  \n",
       "248  3239.909912  2160680000          0.005128  \n",
       "249  3240.020020  2428670000          0.000034  \n",
       "250  3221.290039  3013290000         -0.005781  \n",
       "\n",
       "[251 rows x 8 columns]"
      ]
     },
     "execution_count": 18,
     "metadata": {},
     "output_type": "execute_result"
    }
   ],
   "source": [
    "df_sp500"
   ]
  },
  {
   "cell_type": "code",
   "execution_count": 19,
   "metadata": {},
   "outputs": [
    {
     "data": {
      "text/html": [
       "<div>\n",
       "<style scoped>\n",
       "    .dataframe tbody tr th:only-of-type {\n",
       "        vertical-align: middle;\n",
       "    }\n",
       "\n",
       "    .dataframe tbody tr th {\n",
       "        vertical-align: top;\n",
       "    }\n",
       "\n",
       "    .dataframe thead th {\n",
       "        text-align: right;\n",
       "    }\n",
       "</style>\n",
       "<table border=\"1\" class=\"dataframe\">\n",
       "  <thead>\n",
       "    <tr style=\"text-align: right;\">\n",
       "      <th></th>\n",
       "      <th>Date</th>\n",
       "      <th>Open</th>\n",
       "      <th>High</th>\n",
       "      <th>Low</th>\n",
       "      <th>Close</th>\n",
       "      <th>Adj Close</th>\n",
       "      <th>Volume</th>\n",
       "      <th>pct_change_sds</th>\n",
       "    </tr>\n",
       "  </thead>\n",
       "  <tbody>\n",
       "    <tr>\n",
       "      <td>0</td>\n",
       "      <td>2019-01-02</td>\n",
       "      <td>44.330002</td>\n",
       "      <td>44.349998</td>\n",
       "      <td>42.540001</td>\n",
       "      <td>42.880001</td>\n",
       "      <td>42.151756</td>\n",
       "      <td>7162500</td>\n",
       "      <td>NaN</td>\n",
       "    </tr>\n",
       "    <tr>\n",
       "      <td>1</td>\n",
       "      <td>2019-01-03</td>\n",
       "      <td>43.549999</td>\n",
       "      <td>45.150002</td>\n",
       "      <td>43.480000</td>\n",
       "      <td>44.990002</td>\n",
       "      <td>44.225925</td>\n",
       "      <td>10146600</td>\n",
       "      <td>0.049207</td>\n",
       "    </tr>\n",
       "    <tr>\n",
       "      <td>2</td>\n",
       "      <td>2019-01-04</td>\n",
       "      <td>43.730000</td>\n",
       "      <td>43.880001</td>\n",
       "      <td>41.700001</td>\n",
       "      <td>41.939999</td>\n",
       "      <td>41.227718</td>\n",
       "      <td>8950700</td>\n",
       "      <td>-0.067793</td>\n",
       "    </tr>\n",
       "    <tr>\n",
       "      <td>3</td>\n",
       "      <td>2019-01-07</td>\n",
       "      <td>41.840000</td>\n",
       "      <td>42.180000</td>\n",
       "      <td>40.779999</td>\n",
       "      <td>41.330002</td>\n",
       "      <td>40.628078</td>\n",
       "      <td>5029400</td>\n",
       "      <td>-0.014545</td>\n",
       "    </tr>\n",
       "    <tr>\n",
       "      <td>4</td>\n",
       "      <td>2019-01-08</td>\n",
       "      <td>40.500000</td>\n",
       "      <td>41.419998</td>\n",
       "      <td>40.349998</td>\n",
       "      <td>40.549999</td>\n",
       "      <td>39.861328</td>\n",
       "      <td>5112500</td>\n",
       "      <td>-0.018872</td>\n",
       "    </tr>\n",
       "    <tr>\n",
       "      <td>...</td>\n",
       "      <td>...</td>\n",
       "      <td>...</td>\n",
       "      <td>...</td>\n",
       "      <td>...</td>\n",
       "      <td>...</td>\n",
       "      <td>...</td>\n",
       "      <td>...</td>\n",
       "      <td>...</td>\n",
       "    </tr>\n",
       "    <tr>\n",
       "      <td>246</td>\n",
       "      <td>2019-12-23</td>\n",
       "      <td>24.980000</td>\n",
       "      <td>25.070000</td>\n",
       "      <td>24.969999</td>\n",
       "      <td>25.030001</td>\n",
       "      <td>24.895275</td>\n",
       "      <td>2589900</td>\n",
       "      <td>-0.002391</td>\n",
       "    </tr>\n",
       "    <tr>\n",
       "      <td>247</td>\n",
       "      <td>2019-12-24</td>\n",
       "      <td>24.920000</td>\n",
       "      <td>25.010000</td>\n",
       "      <td>24.910000</td>\n",
       "      <td>24.950001</td>\n",
       "      <td>24.909252</td>\n",
       "      <td>1271900</td>\n",
       "      <td>0.000561</td>\n",
       "    </tr>\n",
       "    <tr>\n",
       "      <td>248</td>\n",
       "      <td>2019-12-26</td>\n",
       "      <td>24.889999</td>\n",
       "      <td>24.889999</td>\n",
       "      <td>24.690001</td>\n",
       "      <td>24.700001</td>\n",
       "      <td>24.659660</td>\n",
       "      <td>2553200</td>\n",
       "      <td>-0.010020</td>\n",
       "    </tr>\n",
       "    <tr>\n",
       "      <td>249</td>\n",
       "      <td>2019-12-27</td>\n",
       "      <td>24.570000</td>\n",
       "      <td>24.799999</td>\n",
       "      <td>24.570000</td>\n",
       "      <td>24.700001</td>\n",
       "      <td>24.659660</td>\n",
       "      <td>3718700</td>\n",
       "      <td>0.000000</td>\n",
       "    </tr>\n",
       "    <tr>\n",
       "      <td>250</td>\n",
       "      <td>2019-12-30</td>\n",
       "      <td>24.700001</td>\n",
       "      <td>25.070000</td>\n",
       "      <td>24.680000</td>\n",
       "      <td>24.980000</td>\n",
       "      <td>24.939201</td>\n",
       "      <td>5761300</td>\n",
       "      <td>0.011336</td>\n",
       "    </tr>\n",
       "  </tbody>\n",
       "</table>\n",
       "<p>251 rows × 8 columns</p>\n",
       "</div>"
      ],
      "text/plain": [
       "           Date       Open       High        Low      Close  Adj Close  \\\n",
       "0    2019-01-02  44.330002  44.349998  42.540001  42.880001  42.151756   \n",
       "1    2019-01-03  43.549999  45.150002  43.480000  44.990002  44.225925   \n",
       "2    2019-01-04  43.730000  43.880001  41.700001  41.939999  41.227718   \n",
       "3    2019-01-07  41.840000  42.180000  40.779999  41.330002  40.628078   \n",
       "4    2019-01-08  40.500000  41.419998  40.349998  40.549999  39.861328   \n",
       "..          ...        ...        ...        ...        ...        ...   \n",
       "246  2019-12-23  24.980000  25.070000  24.969999  25.030001  24.895275   \n",
       "247  2019-12-24  24.920000  25.010000  24.910000  24.950001  24.909252   \n",
       "248  2019-12-26  24.889999  24.889999  24.690001  24.700001  24.659660   \n",
       "249  2019-12-27  24.570000  24.799999  24.570000  24.700001  24.659660   \n",
       "250  2019-12-30  24.700001  25.070000  24.680000  24.980000  24.939201   \n",
       "\n",
       "       Volume  pct_change_sds  \n",
       "0     7162500             NaN  \n",
       "1    10146600        0.049207  \n",
       "2     8950700       -0.067793  \n",
       "3     5029400       -0.014545  \n",
       "4     5112500       -0.018872  \n",
       "..        ...             ...  \n",
       "246   2589900       -0.002391  \n",
       "247   1271900        0.000561  \n",
       "248   2553200       -0.010020  \n",
       "249   3718700        0.000000  \n",
       "250   5761300        0.011336  \n",
       "\n",
       "[251 rows x 8 columns]"
      ]
     },
     "execution_count": 19,
     "metadata": {},
     "output_type": "execute_result"
    }
   ],
   "source": [
    "df_SDS"
   ]
  },
  {
   "cell_type": "code",
   "execution_count": 20,
   "metadata": {},
   "outputs": [
    {
     "data": {
      "text/plain": [
       "-0.9989038061605486"
      ]
     },
     "execution_count": 20,
     "metadata": {},
     "output_type": "execute_result"
    }
   ],
   "source": [
    "df_sp500['pct_change_sp500'].corr(df_SDS['pct_change_sds'])"
   ]
  },
  {
   "cell_type": "code",
   "execution_count": 24,
   "metadata": {},
   "outputs": [
    {
     "data": {
      "text/plain": [
       "Text(0, 0.5, 'SDS')"
      ]
     },
     "execution_count": 24,
     "metadata": {},
     "output_type": "execute_result"
    },
    {
     "data": {
      "image/png": "[encoded data removed]",
      "text/plain": [
       "<Figure size 864x576 with 1 Axes>"
      ]
     },
     "metadata": {
      "needs_background": "light"
     },
     "output_type": "display_data"
    }
   ],
   "source": [
    "fig1 = plt.figure()\n",
    "fig1.set_size_inches((12,8))\n",
    "ax1 = fig1.add_subplot(1,1,1)\n",
    "ax1.scatter(x=df_sp500.pct_change_sp500,y=df_SDS.pct_change_sds, color='red')\n",
    "ax1.set_xlabel('SP500')\n",
    "ax1.set_ylabel('SDS')\n"
   ]
  },
  {
   "cell_type": "code",
   "execution_count": 12,
   "metadata": {},
   "outputs": [],
   "source": [
    "from sklearn import linear_model"
   ]
  },
  {
   "cell_type": "code",
   "execution_count": 25,
   "metadata": {},
   "outputs": [],
   "source": [
    "reg = linear_model.LinearRegression()"
   ]
  },
  {
   "cell_type": "code",
   "execution_count": 35,
   "metadata": {},
   "outputs": [],
   "source": [
    "x = np.array(df_sp500['pct_change_sp500'][1:]).reshape(-1,1)"
   ]
  },
  {
   "cell_type": "code",
   "execution_count": 36,
   "metadata": {},
   "outputs": [],
   "source": [
    "y = np.array(df_SDS['pct_change_sds'][1:]).reshape(-1,1)"
   ]
  },
  {
   "cell_type": "code",
   "execution_count": 37,
   "metadata": {},
   "outputs": [
    {
     "data": {
      "text/plain": [
       "LinearRegression(copy_X=True, fit_intercept=True, n_jobs=None, normalize=False)"
      ]
     },
     "execution_count": 37,
     "metadata": {},
     "output_type": "execute_result"
    }
   ],
   "source": [
    "reg.fit(x,y)"
   ]
  },
  {
   "cell_type": "code",
   "execution_count": 38,
   "metadata": {},
   "outputs": [
    {
     "data": {
      "text/plain": [
       "8.36447687244217e-05"
      ]
     },
     "execution_count": 38,
     "metadata": {},
     "output_type": "execute_result"
    }
   ],
   "source": [
    "reg.intercept_[0]"
   ]
  },
  {
   "cell_type": "code",
   "execution_count": 39,
   "metadata": {},
   "outputs": [
    {
     "data": {
      "text/plain": [
       "-1.9983092041982482"
      ]
     },
     "execution_count": 39,
     "metadata": {},
     "output_type": "execute_result"
    }
   ],
   "source": [
    "reg.coef_[0][0]"
   ]
  },
  {
   "cell_type": "code",
   "execution_count": 40,
   "metadata": {},
   "outputs": [],
   "source": [
    "from sklearn.metrics import mean_squared_error"
   ]
  },
  {
   "cell_type": "code",
   "execution_count": 41,
   "metadata": {},
   "outputs": [
    {
     "data": {
      "text/plain": [
       "5.43329056151453e-07"
      ]
     },
     "execution_count": 41,
     "metadata": {},
     "output_type": "execute_result"
    }
   ],
   "source": [
    "mean_squared_error(y,reg.predict(x))"
   ]
  },
  {
   "cell_type": "code",
   "execution_count": 42,
   "metadata": {},
   "outputs": [
    {
     "data": {
      "text/plain": [
       "0.9978088139620312"
      ]
     },
     "execution_count": 42,
     "metadata": {},
     "output_type": "execute_result"
    }
   ],
   "source": [
    "reg.score(x,y)"
   ]
  },
  {
   "cell_type": "code",
   "execution_count": 43,
   "metadata": {},
   "outputs": [
    {
     "data": {
      "text/plain": [
       "[<matplotlib.lines.Line2D at 0x20718fc5b88>]"
      ]
     },
     "execution_count": 43,
     "metadata": {},
     "output_type": "execute_result"
    },
    {
     "data": {
      "image/png": "[encoded data removed]",
      "text/plain": [
       "<Figure size 432x288 with 1 Axes>"
      ]
     },
     "metadata": {
      "needs_background": "light"
     },
     "output_type": "display_data"
    }
   ],
   "source": [
    "plt.scatter(x,y,color='red')\n",
    "plt.plot(x,reg.predict(x),color='black',linewidth=3)"
   ]
  }
 ],
 "metadata": {
  "kernelspec": {
   "display_name": "Python 3",
   "language": "python",
   "name": "python3"
  },
  "language_info": {
   "codemirror_mode": {
    "name": "ipython",
    "version": 3
   },
   "file_extension": ".py",
   "mimetype": "text/x-python",
   "name": "python",
   "nbconvert_exporter": "python",
   "pygments_lexer": "ipython3",
   "version": "3.7.4"
  }
 },
 "nbformat": 4,
 "nbformat_minor": 2
}
